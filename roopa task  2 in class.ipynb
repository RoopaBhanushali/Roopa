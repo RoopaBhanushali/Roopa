{
 "cells": [
  {
   "cell_type": "code",
   "execution_count": 1,
   "id": "f9ded9a9",
   "metadata": {},
   "outputs": [],
   "source": [
    "l=[3,4,5,6,7 , [23,456,67,8,78,78],[345,56,87,8,98,9], (234,6657,6) , {\"key1\":\"sudh\",234:[23,45,656]}] "
   ]
  },
  {
   "cell_type": "code",
   "execution_count": 2,
   "id": "4abf3786",
   "metadata": {},
   "outputs": [
    {
     "data": {
      "text/plain": [
       "list"
      ]
     },
     "execution_count": 2,
     "metadata": {},
     "output_type": "execute_result"
    }
   ],
   "source": [
    "type(l)"
   ]
  },
  {
   "cell_type": "code",
   "execution_count": 3,
   "id": "10881bf1",
   "metadata": {},
   "outputs": [],
   "source": [
    "l.reverse()"
   ]
  },
  {
   "cell_type": "code",
   "execution_count": 4,
   "id": "3920116c",
   "metadata": {},
   "outputs": [
    {
     "data": {
      "text/plain": [
       "[{'key1': 'sudh', 234: [23, 45, 656]},\n",
       " (234, 6657, 6),\n",
       " [345, 56, 87, 8, 98, 9],\n",
       " [23, 456, 67, 8, 78, 78],\n",
       " 7,\n",
       " 6,\n",
       " 5,\n",
       " 4,\n",
       " 3]"
      ]
     },
     "execution_count": 4,
     "metadata": {},
     "output_type": "execute_result"
    }
   ],
   "source": [
    "l"
   ]
  },
  {
   "cell_type": "code",
   "execution_count": 9,
   "id": "1f4d343d",
   "metadata": {},
   "outputs": [
    {
     "data": {
      "text/plain": [
       "234"
      ]
     },
     "execution_count": 9,
     "metadata": {},
     "output_type": "execute_result"
    }
   ],
   "source": [
    "l[1][0]"
   ]
  },
  {
   "cell_type": "code",
   "execution_count": 12,
   "id": "ecad6475",
   "metadata": {},
   "outputs": [
    {
     "data": {
      "text/plain": [
       "456"
      ]
     },
     "execution_count": 12,
     "metadata": {},
     "output_type": "execute_result"
    }
   ],
   "source": [
    "l[3][1]"
   ]
  },
  {
   "cell_type": "code",
   "execution_count": 17,
   "id": "eb4b2fd2",
   "metadata": {},
   "outputs": [
    {
     "data": {
      "text/plain": [
       "[(234, 6657, 6), [345, 56, 87, 8, 98, 9], [23, 456, 67, 8, 78, 78]]"
      ]
     },
     "execution_count": 17,
     "metadata": {},
     "output_type": "execute_result"
    }
   ],
   "source": [
    "l[1:4]"
   ]
  },
  {
   "cell_type": "code",
   "execution_count": 15,
   "id": "b94fb4aa",
   "metadata": {},
   "outputs": [
    {
     "data": {
      "text/plain": [
       "'sudh'"
      ]
     },
     "execution_count": 15,
     "metadata": {},
     "output_type": "execute_result"
    }
   ],
   "source": [
    "l[0]['key1']"
   ]
  },
  {
   "cell_type": "code",
   "execution_count": 16,
   "id": "72e9b217",
   "metadata": {},
   "outputs": [
    {
     "data": {
      "text/plain": [
       "{'key1': 'sudh', 234: [23, 45, 656]}"
      ]
     },
     "execution_count": 16,
     "metadata": {},
     "output_type": "execute_result"
    }
   ],
   "source": [
    "l[0]"
   ]
  },
  {
   "cell_type": "code",
   "execution_count": 19,
   "id": "0355f187",
   "metadata": {},
   "outputs": [],
   "source": [
    "k=l[0]"
   ]
  },
  {
   "cell_type": "code",
   "execution_count": 20,
   "id": "fe59c858",
   "metadata": {},
   "outputs": [
    {
     "data": {
      "text/plain": [
       "{'key1': 'sudh', 234: [23, 45, 656]}"
      ]
     },
     "execution_count": 20,
     "metadata": {},
     "output_type": "execute_result"
    }
   ],
   "source": [
    "k"
   ]
  },
  {
   "cell_type": "code",
   "execution_count": 21,
   "id": "4df5d284",
   "metadata": {},
   "outputs": [
    {
     "data": {
      "text/plain": [
       "dict_keys(['key1', 234])"
      ]
     },
     "execution_count": 21,
     "metadata": {},
     "output_type": "execute_result"
    }
   ],
   "source": [
    "k.keys()"
   ]
  },
  {
   "cell_type": "code",
   "execution_count": 22,
   "id": "06dc36c1",
   "metadata": {},
   "outputs": [
    {
     "data": {
      "text/plain": [
       "dict_values(['sudh', [23, 45, 656]])"
      ]
     },
     "execution_count": 22,
     "metadata": {},
     "output_type": "execute_result"
    }
   ],
   "source": [
    "k.values()"
   ]
  },
  {
   "cell_type": "code",
   "execution_count": null,
   "id": "d82c2680",
   "metadata": {},
   "outputs": [],
   "source": []
  }
 ],
 "metadata": {
  "kernelspec": {
   "display_name": "Python 3",
   "language": "python",
   "name": "python3"
  },
  "language_info": {
   "codemirror_mode": {
    "name": "ipython",
    "version": 3
   },
   "file_extension": ".py",
   "mimetype": "text/x-python",
   "name": "python",
   "nbconvert_exporter": "python",
   "pygments_lexer": "ipython3",
   "version": "3.8.8"
  }
 },
 "nbformat": 4,
 "nbformat_minor": 5
}
